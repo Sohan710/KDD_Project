{
  "nbformat": 4,
  "nbformat_minor": 0,
  "metadata": {
    "colab": {
      "provenance": []
    },
    "kernelspec": {
      "name": "python3",
      "display_name": "Python 3"
    },
    "language_info": {
      "name": "python"
    }
  },
  "cells": [
    {
      "cell_type": "code",
      "source": [
        "import pandas as pd\n",
        "\n",
        "# Load the links_small.csv file\n",
        "links_df = pd.read_csv('links_small.csv')\n",
        "\n",
        "# Extract the movie IDs from column C of the links DataFrame\n",
        "movie_ids = links_df['tmdbId'].values.tolist()\n",
        "\n",
        "# Limit the movie IDs to the first 9,000 IDs\n",
        "movie_ids = movie_ids[:9000]\n",
        "\n",
        "# Create a DataFrame of the selected movies based on the movie IDs\n",
        "selected_movies_df = links_df[links_df['tmdbId'].isin(movie_ids)]\n",
        "\n",
        "# Display the first 10 rows of the selected movies DataFrame\n",
        "print(selected_movies_df.head(10))"
      ],
      "metadata": {
        "colab": {
          "base_uri": "https://localhost:8080/"
        },
        "id": "yAq-CT_pxzcz",
        "outputId": "0eec45db-c691-4553-a1bc-b966295706c0"
      },
      "execution_count": 2,
      "outputs": [
        {
          "output_type": "stream",
          "name": "stdout",
          "text": [
            "   movieId  imdbId   tmdbId\n",
            "0        1  114709    862.0\n",
            "1        2  113497   8844.0\n",
            "2        3  113228  15602.0\n",
            "3        4  114885  31357.0\n",
            "4        5  113041  11862.0\n",
            "5        6  113277    949.0\n",
            "6        7  114319  11860.0\n",
            "7        8  112302  45325.0\n",
            "8        9  114576   9091.0\n",
            "9       10  113189    710.0\n"
          ]
        }
      ]
    },
    {
      "cell_type": "code",
      "source": [
        "import pandas as pd\n",
        "\n",
        "# Load the ratings data from the 'ratings_small.csv' file\n",
        "ratings = pd.read_csv('ratings_small.csv')\n",
        "\n",
        "# Load the links data from the 'links_small.csv' file\n",
        "links = pd.read_csv('links_small.csv')\n",
        "\n",
        "# Extract a subset of 9,000 movies identified by the column C in the links data\n",
        "movie_subset = links.loc[links['tmdbId'].isin(links['tmdbId'].dropna().astype('int'))]['movieId']\n",
        "\n",
        "# Compute the average rating for each movie in the subset\n",
        "average_ratings = ratings.loc[ratings['movieId'].isin(movie_subset)].groupby('movieId')['rating'].mean().reset_index()\n",
        "\n",
        "# Add the decision attribute 'Average Rating' with values from 0.5 to 5\n",
        "average_ratings['Average Rating'] = pd.cut(average_ratings['rating'], bins=10, labels=[0.5, 1, 1.5, 2, 2.5, 3, 3.5, 4, 4.5, 5])\n",
        "\n",
        "# Save the DataFrame to a CSV file\n",
        "average_ratings.to_csv('average_ratings.csv', index=False)\n",
        "print(average_ratings) \n",
        "\n",
        "from google.colab import files\n",
        "\n",
        "files.download('average_ratings.csv')\n"
      ],
      "metadata": {
        "colab": {
          "base_uri": "https://localhost:8080/",
          "height": 270
        },
        "id": "g94w4l1nz3O-",
        "outputId": "e159a6b3-928e-44f9-bd73-7b094801e5fa"
      },
      "execution_count": 3,
      "outputs": [
        {
          "output_type": "stream",
          "name": "stdout",
          "text": [
            "      movieId    rating Average Rating\n",
            "0           1  3.872470            4.0\n",
            "1           2  3.401869            3.5\n",
            "2           3  3.161017            3.0\n",
            "3           4  2.384615            2.5\n",
            "4           5  3.267857            3.5\n",
            "...       ...       ...            ...\n",
            "9048   161944  5.000000            5.0\n",
            "9049   162376  4.500000            4.5\n",
            "9050   162542  5.000000            5.0\n",
            "9051   162672  3.000000            3.0\n",
            "9052   163949  5.000000            5.0\n",
            "\n",
            "[9053 rows x 3 columns]\n"
          ]
        },
        {
          "output_type": "display_data",
          "data": {
            "text/plain": [
              "<IPython.core.display.Javascript object>"
            ],
            "application/javascript": [
              "\n",
              "    async function download(id, filename, size) {\n",
              "      if (!google.colab.kernel.accessAllowed) {\n",
              "        return;\n",
              "      }\n",
              "      const div = document.createElement('div');\n",
              "      const label = document.createElement('label');\n",
              "      label.textContent = `Downloading \"${filename}\": `;\n",
              "      div.appendChild(label);\n",
              "      const progress = document.createElement('progress');\n",
              "      progress.max = size;\n",
              "      div.appendChild(progress);\n",
              "      document.body.appendChild(div);\n",
              "\n",
              "      const buffers = [];\n",
              "      let downloaded = 0;\n",
              "\n",
              "      const channel = await google.colab.kernel.comms.open(id);\n",
              "      // Send a message to notify the kernel that we're ready.\n",
              "      channel.send({})\n",
              "\n",
              "      for await (const message of channel.messages) {\n",
              "        // Send a message to notify the kernel that we're ready.\n",
              "        channel.send({})\n",
              "        if (message.buffers) {\n",
              "          for (const buffer of message.buffers) {\n",
              "            buffers.push(buffer);\n",
              "            downloaded += buffer.byteLength;\n",
              "            progress.value = downloaded;\n",
              "          }\n",
              "        }\n",
              "      }\n",
              "      const blob = new Blob(buffers, {type: 'application/binary'});\n",
              "      const a = document.createElement('a');\n",
              "      a.href = window.URL.createObjectURL(blob);\n",
              "      a.download = filename;\n",
              "      div.appendChild(a);\n",
              "      a.click();\n",
              "      div.remove();\n",
              "    }\n",
              "  "
            ]
          },
          "metadata": {}
        },
        {
          "output_type": "display_data",
          "data": {
            "text/plain": [
              "<IPython.core.display.Javascript object>"
            ],
            "application/javascript": [
              "download(\"download_f9d68124-922a-4444-9261-b5f5da0b8950\", \"average_ratings.csv\", 162665)"
            ]
          },
          "metadata": {}
        }
      ]
    },
    {
      "cell_type": "code",
      "source": [
        "#@title Default title text\n",
        "import pandas as pd\n",
        "import numpy as np\n",
        "\n",
        "# create dummy data for the seven new columns\n",
        "num_rows = 9053\n",
        "genre = np.random.choice(['Action', 'Comedy', 'Drama', 'Romance', 'Horror', 'Thriller', 'Sci-Fi'], num_rows)\n",
        "budget = np.random.choice(['$10 million', '$20 million', '$30 million', '$40 million', '$50 million'], num_rows)\n",
        "language = np.random.choice(['English', 'Spanish', 'French', 'German', 'Japanese'], num_rows)\n",
        "director = np.random.choice(['Steven Spielberg', 'Christopher Nolan', 'Martin Scorsese', 'James Cameron', 'Quentin Tarantino'], num_rows)\n",
        "\n",
        "# create the dummy data DataFrame\n",
        "dummy_data = pd.DataFrame({\n",
        "    'genre': genre,\n",
        "    'budget': budget,\n",
        "    'language': language,\n",
        "    'Director': director\n",
        "})\n",
        "\n",
        "# add the dummy data to the existing average_ratings DataFrame\n",
        "average_ratings_extended = pd.concat([average_ratings, dummy_data], axis=1)\n",
        "average_ratings_extended.to_csv('average_ratings_extended.csv', index=False)\n",
        "print(average_ratings_extended) \n",
        "\n",
        "from google.colab import files\n",
        "\n",
        "files.download('average_ratings_extended.csv')\n"
      ],
      "metadata": {
        "colab": {
          "base_uri": "https://localhost:8080/",
          "height": 506
        },
        "id": "YMcWILL72JnN",
        "outputId": "60b7f0e4-6f75-4903-f36f-3f1494ea6e79"
      },
      "execution_count": 4,
      "outputs": [
        {
          "output_type": "stream",
          "name": "stdout",
          "text": [
            "      movieId    rating Average Rating     genre       budget  language  \\\n",
            "0           1  3.872470            4.0    Sci-Fi  $20 million  Japanese   \n",
            "1           2  3.401869            3.5    Sci-Fi  $20 million    German   \n",
            "2           3  3.161017            3.0     Drama  $20 million    French   \n",
            "3           4  2.384615            2.5    Sci-Fi  $10 million   English   \n",
            "4           5  3.267857            3.5    Action  $50 million    German   \n",
            "...       ...       ...            ...       ...          ...       ...   \n",
            "9048   161944  5.000000            5.0   Romance  $20 million    French   \n",
            "9049   162376  4.500000            4.5  Thriller  $10 million  Japanese   \n",
            "9050   162542  5.000000            5.0   Romance  $10 million   English   \n",
            "9051   162672  3.000000            3.0  Thriller  $50 million   Spanish   \n",
            "9052   163949  5.000000            5.0    Comedy  $40 million   English   \n",
            "\n",
            "               Director  \n",
            "0         James Cameron  \n",
            "1       Martin Scorsese  \n",
            "2       Martin Scorsese  \n",
            "3      Steven Spielberg  \n",
            "4      Steven Spielberg  \n",
            "...                 ...  \n",
            "9048      James Cameron  \n",
            "9049   Steven Spielberg  \n",
            "9050  Quentin Tarantino  \n",
            "9051  Quentin Tarantino  \n",
            "9052  Quentin Tarantino  \n",
            "\n",
            "[9053 rows x 7 columns]\n"
          ]
        },
        {
          "output_type": "display_data",
          "data": {
            "text/plain": [
              "<IPython.core.display.Javascript object>"
            ],
            "application/javascript": [
              "\n",
              "    async function download(id, filename, size) {\n",
              "      if (!google.colab.kernel.accessAllowed) {\n",
              "        return;\n",
              "      }\n",
              "      const div = document.createElement('div');\n",
              "      const label = document.createElement('label');\n",
              "      label.textContent = `Downloading \"${filename}\": `;\n",
              "      div.appendChild(label);\n",
              "      const progress = document.createElement('progress');\n",
              "      progress.max = size;\n",
              "      div.appendChild(progress);\n",
              "      document.body.appendChild(div);\n",
              "\n",
              "      const buffers = [];\n",
              "      let downloaded = 0;\n",
              "\n",
              "      const channel = await google.colab.kernel.comms.open(id);\n",
              "      // Send a message to notify the kernel that we're ready.\n",
              "      channel.send({})\n",
              "\n",
              "      for await (const message of channel.messages) {\n",
              "        // Send a message to notify the kernel that we're ready.\n",
              "        channel.send({})\n",
              "        if (message.buffers) {\n",
              "          for (const buffer of message.buffers) {\n",
              "            buffers.push(buffer);\n",
              "            downloaded += buffer.byteLength;\n",
              "            progress.value = downloaded;\n",
              "          }\n",
              "        }\n",
              "      }\n",
              "      const blob = new Blob(buffers, {type: 'application/binary'});\n",
              "      const a = document.createElement('a');\n",
              "      a.href = window.URL.createObjectURL(blob);\n",
              "      a.download = filename;\n",
              "      div.appendChild(a);\n",
              "      a.click();\n",
              "      div.remove();\n",
              "    }\n",
              "  "
            ]
          },
          "metadata": {}
        },
        {
          "output_type": "display_data",
          "data": {
            "text/plain": [
              "<IPython.core.display.Javascript object>"
            ],
            "application/javascript": [
              "download(\"download_f7826e5e-e91d-4052-898c-8bf866f5e3f2\", \"average_ratings_extended.csv\", 557985)"
            ]
          },
          "metadata": {}
        }
      ]
    }
  ]
}